{
  "cells": [
    {
      "cell_type": "code",
      "execution_count": 87,
      "metadata": {
        "id": "Qpaapj7Z9nve"
      },
      "outputs": [],
      "source": [
        "# Classification\n",
        "import math\n",
        "import h5py\n",
        "import numpy as np\n",
        "import tensorflow as tf\n",
        "import matplotlib.pyplot as plt\n",
        "from keras.models import Sequential\n",
        "from tensorflow.keras.callbacks import EarlyStopping, ReduceLROnPlateau\n",
        "from tensorflow.keras.layers import GlobalAveragePooling1D, Conv1D, GlobalMaxPooling1D, BatchNormalization\n",
        "from keras.layers import Dense\n",
        "from keras.regularizers import L1L2\n",
        "from tensorflow.keras.models import Model\n",
        "from tensorflow.keras import layers, losses, regularizers\n",
        "# from keras.wrappers.scikit_learn import KerasClassifier\n",
        "from sklearn.model_selection import StratifiedKFold\n",
        "from sklearn.model_selection import cross_val_score, KFold\n",
        "from sklearn.pipeline import Pipeline\n",
        "from sklearn.metrics import roc_curve, confusion_matrix, auc\n",
        "from sklearn.metrics import roc_auc_score, precision_recall_curve\n",
        "import pandas as pd\n",
        "import time\n",
        "import os\n"
      ]
    },
    {
      "cell_type": "code",
      "execution_count": 52,
      "metadata": {
        "id": "G9_GclivRXY_"
      },
      "outputs": [],
      "source": [
        "#Best performing architect\n",
        "# CM: [39 2 4 29]\n",
        "# Accuracy: 0.919\n",
        "# Sensitivity: 0.879\n",
        "# Specificity: 0.951\n",
        "# MCC: 0.836\n",
        "\n",
        "# def create_model():\n",
        "#     # Create model\n",
        "#     model = Sequential()\n",
        "#     model.add(Conv1D(filters=32, kernel_size=14, strides=1, activation='relu', input_shape=[None,1], name = 'L1'))\n",
        "#     model.add(tf.keras.layers.Dropout(0.2)),  # dropout rate of 0.2\n",
        "#     model.add(Conv1D(filters=32, kernel_size=4, strides=1, activation='relu', name = 'L2'))  # New Conv1D layer\n",
        "#     #model.add(Conv1D(filters=16, kernel_size=3, strides=1, activation='relu', name = 'L3'))  # New Conv1D layer\n",
        "#     model.add(GlobalAveragePooling1D())\n",
        "#     model.add(Dense(32, activation='relu'))\n",
        "#     model.add(Dense(1, activation='sigmoid', name='classification'))\n",
        "#     # Compile model\n",
        "#     adam = tf.keras.optimizers.Adam(learning_rate=1.e-04)\n",
        "#     model.compile(loss='binary_crossentropy', optimizer='adam', metrics=['accuracy'])\n",
        "#     #model.summary()\n",
        "#     return model\n",
        "\n",
        "# model with acc = 91% for 1dcnn selected features:==>\n",
        "# def create_model():\n",
        "#     # Create model\n",
        "#     model = Sequential()\n",
        "#     model.add(Conv1D(filters=64, kernel_size=7, strides=1, activation='relu',padding = 'valid', input_shape=[None,1], name = 'L1'))\n",
        "#     model.add(tf.keras.layers.Dropout(0.4)),  # dropout rate of 0.4\n",
        "#     model.add(BatchNormalization())\n",
        "#     model.add(Conv1D(filters=64, kernel_size=3, strides=1, activation='relu', name = 'L2'))\n",
        "#     model.add(Conv1D(filters=32, kernel_size=1, strides=1, activation='relu', name = 'L3'))  # New Conv1D layer\n",
        "#     model.add(Conv1D(filters=16, kernel_size=1, strides=1, activation='relu', name = 'L4'))  # New Conv1D layer\n",
        "#     model.add(GlobalAveragePooling1D())\n",
        "#     model.add(tf.keras.layers.Dropout(0.4)),  # dropout rate of 0.4\n",
        "#     model.add(Dense(32, activation='relu'))\n",
        "#     model.add(Dense(1, activation='sigmoid', name='classification'))\n",
        "#     # Compile model\n",
        "#     adam = tf.keras.optimizers.Adam(learning_rate=1.e-04)\n",
        "#     model.compile(loss='binary_crossentropy', optimizer='adam', metrics=['accuracy'])\n",
        "#     #model.summary()\n",
        "#     return model\n"
      ]
    },
    {
      "cell_type": "code",
      "execution_count": 53,
      "metadata": {
        "id": "kUiz9gmLnufy"
      },
      "outputs": [],
      "source": [
        "## Best model 06252024\n",
        "# folds = 5\n",
        "# batch_sz = 16\n",
        "# dropout = 0.6\n",
        "# kernel_sz = 14\n",
        "# num_filters = 112 #128 #64\n",
        "# ## Function to create model, required for KerasClassifier\n",
        "# def create_model():\n",
        "#     # Create model\n",
        "#     model = Sequential()\n",
        "#     model.add(Conv1D(filters=num_filters, kernel_size=kernel_sz, strides=1, activation='relu', input_shape=[None,1], name = 'L1'))\n",
        "#     model.add(tf.keras.layers.Dropout(dropout))  # dropout rate of 0.4\n",
        "#     model.add(Conv1D(filters=num_filters, kernel_size=6, strides=1, activation='relu', name = 'L2'))\n",
        "#     model.add(Conv1D(filters=32, kernel_size=1, strides=1, activation='relu', name = 'L3'))\n",
        "#     #model.add(Conv1D(filters=16, kernel_size=1, strides=1, activation='relu', name = 'L4'))  # New Conv1D layer\n",
        "#     model.add(GlobalAveragePooling1D())\n",
        "#     model.add(tf.keras.layers.Dropout(dropout))  # dropout rate of 0.4\n",
        "#     model.add(Dense(64, activation='relu'))\n",
        "#     model.add(Dense(32, activation='relu'))\n",
        "#     model.add(Dense(1, activation='sigmoid', name='classification'))\n",
        "#     # Compile model\n",
        "#     adam = tf.keras.optimizers.Adam(learning_rate=1.e-04)\n",
        "#     model.compile(loss='binary_crossentropy', optimizer='adam', metrics=['accuracy'])\n",
        "#     #model.summary()\n",
        "#     return model"
      ]
    },
    {
      "cell_type": "code",
      "execution_count": 54,
      "metadata": {
        "id": "j6Uz7ufjJVCO"
      },
      "outputs": [],
      "source": [
        "# copy of Rahul's model\n",
        "# def create_model():\n",
        "#     # Create model\n",
        "#     model = Sequential()\n",
        "#     model.add(Conv1D(filters=14, kernel_size=10, strides=1, activation='relu', input_shape=[None,1]))\n",
        "#     model.add(GlobalAveragePooling1D())\n",
        "#     model.add(Dense(1, activation='sigmoid', name='classification'))\n",
        "#     # Compile model\n",
        "#     adam = tf.keras.optimizers.Adam(lr=1.e-04)\n",
        "#     model.compile(loss='binary_crossentropy', optimizer='adam', metrics=['accuracy'])\n",
        "#     #model.summary()\n",
        "#     return model"
      ]
    },
    {
      "cell_type": "code",
      "execution_count": 124,
      "metadata": {
        "colab": {
          "base_uri": "https://localhost:8080/"
        },
        "id": "LcVqLT8o9rbM",
        "outputId": "d2889d7a-d637-413b-f44c-851acc97d0f2"
      },
      "outputs": [
        {
          "name": "stdout",
          "output_type": "stream",
          "text": [
            "(43, 20)\n",
            "(43, 20, 1)\n",
            "(43,)\n"
          ]
        }
      ],
      "source": [
        "def normalize(data):\n",
        "  min = np.min(data,axis = 0)\n",
        "  max = np.max(data,axis = 0)\n",
        "  #print('min, max',min, max)\n",
        "  data =  (data-min)/(max-min)\n",
        "  return data\n",
        "\n",
        "# Fix random seed for reproducibility\n",
        "seed = 128\n",
        "np.random.seed(seed)\n",
        "# Split into input (X) and output (y) variables\n",
        "#data = pd.read_csv(r'../content/exp_nov_winSiz_5T123ST2_selectedConn.csv').values\n",
        "#dir = r'C:\\Users\\kamata3\\Work\\Brain\\Brain_network\\EEG_fNIRS_paper_Brain_informatics\\fNIRS_codes_results\\Connectivities_LSTMED_multiChanROI'  # directory of connectivities\n",
        "#filename = 'exp_nov_winSiz_5T123ST13.csv'\n",
        "\n",
        "dir = r'C:\\Users\\_Kamat_\\Desktop\\RPI\\ResearchWork\\Papers_\\Effective_Connectivity\\EEG_fNIRS_paper_Brain_informatics\\channelEEG_codes_results_alphaBand\\Results\\Connectivities_LSTMED_multiChanROI_Copy'  # directory of connectivities\n",
        "#filename = 'exp_nov_winSiz_5ST13_Copy.csv'\n",
        "filename = 'exp_nov_winSiz_5P4_Copy.csv'\n",
        "\n",
        "data = pd.read_csv(os.path.join(dir,filename)).values\n",
        "m,n = data.shape\n",
        "X0 = normalize(data[:,0:n-1])\n",
        "\n",
        "print(X0.shape)\n",
        "X = X0.reshape(X0.shape[0],X0.shape[1],1)\n",
        "X = normalize(X)\n",
        "\n",
        "print(X.shape)\n",
        "y = data[:,n-1]\n",
        "y = np.array([0 if y[i]==-1 else 1 for i in range(len(y))])\n",
        "print(y.shape)"
      ]
    },
    {
      "cell_type": "code",
      "execution_count": 129,
      "metadata": {
        "colab": {
          "base_uri": "https://localhost:8080/"
        },
        "id": "ChwixDpb9uud",
        "outputId": "edfbf68e-c591-4852-bf6e-05b163429d98"
      },
      "outputs": [
        {
          "name": "stdout",
          "output_type": "stream",
          "text": [
            "working on Kernel_sz1_9, Kernel_sz2_7, filter_size128\n"
          ]
        },
        {
          "name": "stderr",
          "output_type": "stream",
          "text": [
            "c:\\Users\\_Kamat_\\Desktop\\RPI\\ResearchWork\\Papers_\\Effective_Connectivity\\tfLSTM_ED\\lib\\site-packages\\keras\\src\\layers\\convolutional\\base_conv.py:99: UserWarning: Do not pass an `input_shape`/`input_dim` argument to a layer. When using Sequential models, prefer using an `Input(shape)` object as the first layer in the model instead.\n",
            "  super().__init__(\n"
          ]
        },
        {
          "name": "stdout",
          "output_type": "stream",
          "text": [
            "\u001b[1m1/1\u001b[0m \u001b[32m━━━━━━━━━━━━━━━━━━━━\u001b[0m\u001b[37m\u001b[0m \u001b[1m0s\u001b[0m 137ms/step\n",
            "\u001b[1m1/1\u001b[0m \u001b[32m━━━━━━━━━━━━━━━━━━━━\u001b[0m\u001b[37m\u001b[0m \u001b[1m0s\u001b[0m 111ms/step\n",
            "\u001b[1m1/1\u001b[0m \u001b[32m━━━━━━━━━━━━━━━━━━━━\u001b[0m\u001b[37m\u001b[0m \u001b[1m0s\u001b[0m 158ms/step\n",
            "\u001b[1m1/1\u001b[0m \u001b[32m━━━━━━━━━━━━━━━━━━━━\u001b[0m\u001b[37m\u001b[0m \u001b[1m0s\u001b[0m 149ms/step\n",
            "\u001b[1m1/1\u001b[0m \u001b[32m━━━━━━━━━━━━━━━━━━━━\u001b[0m\u001b[37m\u001b[0m \u001b[1m0s\u001b[0m 169ms/step\n",
            "accuracy: 0.9069767441860465\n",
            "[[ 2.  1.  0.]\n",
            " [ 3.  1.  1.]\n",
            " [ 4.  1.  1.]\n",
            " [ 5.  1.  1.]\n",
            " [ 2.  0.  0.]\n",
            " [ 3.  0.  0.]\n",
            " [ 4.  0.  0.]\n",
            " [ 5.  0.  0.]\n",
            " [ 6.  0.  0.]\n",
            " [ 6.  1.  1.]\n",
            " [ 7.  1.  1.]\n",
            " [ 8.  1.  1.]\n",
            " [ 9.  1.  1.]\n",
            " [ 7.  0.  0.]\n",
            " [ 8.  0.  0.]\n",
            " [ 9.  0.  0.]\n",
            " [10.  0.  1.]\n",
            " [11.  0.  0.]\n",
            " [10.  1.  1.]\n",
            " [11.  1.  0.]\n",
            " [12.  1.  0.]\n",
            " [12.  0.  0.]\n",
            " [13.  0.  0.]\n",
            " [14.  0.  0.]\n",
            " [15.  0.  0.]\n",
            " [16.  0.  0.]\n",
            " [17.  0.  0.]\n",
            " [13.  1.  1.]\n",
            " [14.  1.  1.]\n",
            " [15.  1.  1.]\n",
            " [18.  0.  0.]\n",
            " [19.  0.  0.]\n",
            " [20.  0.  0.]\n",
            " [21.  0.  0.]\n",
            " [22.  0.  0.]\n",
            " [16.  1.  1.]\n",
            " [17.  1.  1.]\n",
            " [18.  1.  1.]\n",
            " [23.  0.  0.]\n",
            " [24.  0.  0.]\n",
            " [25.  0.  0.]\n",
            " [26.  0.  0.]\n",
            " [27.  0.  0.]]\n",
            "Training time: 4.342974305152893 minutes\n"
          ]
        }
      ],
      "source": [
        "best_model = {'accuracy': 0, 'sensitivity': 0, 'specificity': 0, 'MCC': 0, 'model': None}\n",
        "# classifier\n",
        "folds = 5\n",
        "batch_sz = 16\n",
        "dropout = 0.6\n",
        "# kernel_szL1 = [14,13,12,11,10,9,8,7,6,5,4,3]\n",
        "# kernel_szL2 = [3,4,5,6,7,8,9,10,11,12,13,14]\n",
        "# filters = [32,64,128]\n",
        "\n",
        "kernel_szL1 = [9]#[14,13,11,9,7,5] #\n",
        "kernel_szL2 = [7] #[7,9,11,13,14] #\n",
        "filters = [128]#[32,64,128] #\n",
        "## Function to create model, required for KerasClassifier\n",
        "start_time = time.time()\n",
        "accuracy_temp = 0\n",
        "for kernel_sz1 in kernel_szL1:\n",
        "  for kernel_sz2 in kernel_szL2:\n",
        "    if 21-kernel_sz1 > kernel_sz2:\n",
        "      for filter_sz in filters:\n",
        "        print(f'working on Kernel_sz1_{kernel_sz1}, Kernel_sz2_{kernel_sz2}, filter_size{filter_sz}')\n",
        "        def create_model():\n",
        "            model = Sequential()\n",
        "            model.add(Conv1D(filters=filter_sz, kernel_size=kernel_sz1, strides=1, activation='relu', input_shape=[None,1], name = 'L1'))\n",
        "            model.add(tf.keras.layers.Dropout(dropout))  # dropout rate of 0.4\n",
        "            model.add(Conv1D(filters=filter_sz, kernel_size=kernel_sz2, strides=1, activation='relu', name = 'L2'))\n",
        "            model.add(Conv1D(filters=32, kernel_size=1, strides=1, activation='relu', name = 'L3'))\n",
        "            #model.add(Conv1D(filters=16, kernel_size=1, strides=1, activation='relu', name = 'L4'))  # New Conv1D layer\n",
        "            model.add(GlobalAveragePooling1D())\n",
        "            model.add(tf.keras.layers.Dropout(dropout))  # dropout rate of 0.4 or 0.6\n",
        "            model.add(Dense(64, activation='relu'))\n",
        "            model.add(Dense(32, activation='relu'))\n",
        "            model.add(Dense(1, activation='sigmoid', name='classification'))\n",
        "            # Compile model\n",
        "            adam = tf.keras.optimizers.Adam(learning_rate=1.e-04)\n",
        "            model.compile(loss='binary_crossentropy', optimizer='adam', metrics=['accuracy'])\n",
        "            #model.summary()\n",
        "            return model\n",
        "        #classifier = create_model() # KerasClassifier(build_fn=create_model, epochs=2000, batch_size=5, verbose=0)\n",
        "        #classifier.summary()\n",
        "\n",
        "        y_true = []\n",
        "        y_pred = []\n",
        "        itest = []\n",
        "        kf = StratifiedKFold(n_splits=folds, shuffle=False)\n",
        "        #kf = KFold(n_splits=folds, shuffle=True, random_state=seed)\n",
        "        for train, test in kf.split(X,y):\n",
        "            x_train, x_test, y_train, y_test = X[train], X[test], y[train], y[test]\n",
        "            #print(x_test[:,0])\n",
        "            # print(y_test)\n",
        "            classifier = create_model() #KerasClassifier(build_fn=create_model, epochs=2000, batch_size=5, verbose=0)\n",
        "            es = EarlyStopping(monitor='val_loss', mode='min', verbose=0, patience=200, restore_best_weights = True)\n",
        "            # reduce_lr = ReduceLROnPlateau(monitor='val_loss', factor=0.2,\n",
        "            #                          patience=5, min_lr=0.00001)\n",
        "            classifier.fit(x_train, y_train, validation_data=(x_test, y_test), epochs=5000, batch_size=batch_sz, shuffle=False, verbose=0, callbacks=[es]) #, callbacks=[es, reduce_lr], epochs=5000\n",
        "            # Predicting the Test set results\n",
        "            k_pred = classifier.predict(x_test)\n",
        "            y_true = np.append(y_true, y_test)\n",
        "            y_pred = np.append(y_pred, k_pred)\n",
        "            itest = np.append(itest, test)\n",
        "\n",
        "        # ROC and AUC\n",
        "        fpr, tpr, thresholds = roc_curve(y_true, y_pred)\n",
        "        area = auc(fpr, tpr)\n",
        "\n",
        "        # calculate the g-mean for each threshold\n",
        "        gmeans = np.sqrt(tpr * (1-fpr))\n",
        "        # locate the index of the largest g-mean\n",
        "        ix = np.argmax(gmeans)\n",
        "        # Making the Confusion Matrix [tn, fp, fn, tp]\n",
        "        tn, fp, fn, tp = confusion_matrix(y_true, (y_pred >= thresholds[ix])).ravel()\n",
        "        N = tn+fp+fn+tp\n",
        "        S = (tp+fn)/N\n",
        "        P = (tp+fp)/N\n",
        "        MCC = ((tp/N)-S*P)/np.sqrt(P*S*(1.-S)*(1.-P))\n",
        "        accuracy = (tp+tn)/(tn+fp+fn+tp)\n",
        "        print(f'accuracy: {accuracy}')\n",
        "        sensitivity = (tp)/(tp+fn)\n",
        "        specificity = (tn)/(tn+fp)\n",
        "        if accuracy > accuracy_temp:\n",
        "          accuracy_temp = accuracy\n",
        "          best_model['accuracy'] = accuracy\n",
        "          best_model['sensitivity'] = sensitivity\n",
        "          best_model['specificity'] = specificity\n",
        "          best_model['MCC'] = MCC\n",
        "          best_model['model'] = classifier\n",
        "          best_model['y_true'] = y_true\n",
        "          best_model['y_pred'] = y_pred\n",
        "          best_model['itest'] = itest\n",
        "          best_model['fpr'] = fpr\n",
        "          best_model['tpr'] = tpr\n",
        "          best_model['thresholds'] = thresholds\n",
        "          best_model['ix'] = ix\n",
        "          best_model['area'] = area\n",
        "          best_model['tn'] = tn\n",
        "          best_model['fp'] = fp\n",
        "          best_model['fn'] = fn\n",
        "          best_model['tp'] = tp\n",
        "\n",
        "          ind = []\n",
        "          count_one = 2\n",
        "          count_zero = 2\n",
        "          for label in y_true:\n",
        "              if label > 0:\n",
        "                ind.append(count_one)\n",
        "                count_one+=1\n",
        "              else: \n",
        "                ind.append(count_zero)\n",
        "                count_zero +=1\n",
        "          True_pred = np.vstack((ind,y_true,y_pred>= thresholds[ix])).T\n",
        "          print(True_pred)\n",
        "end_time = time.time()\n",
        "print(f\"Training time: {(end_time-start_time)/60} minutes\")"
      ]
    },
    {
      "cell_type": "code",
      "execution_count": 130,
      "metadata": {
        "id": "rKzcAErOImiX"
      },
      "outputs": [],
      "source": [
        "#best_model['model'].summary()\n",
        "#print(\"Best model's hyperparameters and configuration:\")\n",
        "# print(best_model['model'].get_config())\n",
        "#print(best_model['model'].get_config()['layers'])\n",
        "layers_config = best_model['model'].get_config()['layers']\n",
        "layers_df = pd.DataFrame([layer['config'] for layer in layers_config])\n",
        "file_name = f\"TrainReport_{filename.rstrip('.csv')}.xlsx\"\n",
        "#layers_df.to_excel(file_name, index=False)\n",
        "#directory = r'C:\\Users\\kamata3\\Work\\Brain\\Brain_network\\EEG_fNIRS_paper_Brain_informatics\\fNIRS_codes_results\\Results_1DCNN_LSTMED_mulitChannelROI' \n",
        "\n",
        "directory = r'C:\\Users\\_Kamat_\\Desktop\\RPI\\ResearchWork\\Papers_\\Effective_Connectivity\\EEG_fNIRS_paper_Brain_informatics\\channelEEG_codes_results_alphaBand\\Results\\temp'\n",
        "file_path = os.path.join(directory, file_name)\n",
        "\n",
        "# Create DataFrames for additional data\n",
        "metrics_df = pd.DataFrame({\n",
        "    'Metric': ['Accuracy', 'Sensitivity', 'Specificity', 'MCC', 'AUC', 'TP', 'FP', 'TN', 'FN'],\n",
        "    'Value': [best_model['accuracy'], best_model['sensitivity'], best_model['specificity'], best_model['MCC'], best_model['area'], best_model['tp'], best_model['fp'], best_model['tn'], best_model['fn']]\n",
        "})\n",
        "\n",
        "roc_df = pd.DataFrame({\n",
        "    'FPR': best_model['fpr'],\n",
        "    'TPR': best_model['tpr'],\n",
        "    'Thresholds': best_model['thresholds']\n",
        "})\n",
        "\n",
        "predictions_df = pd.DataFrame({\n",
        "    'y_true': best_model['y_true'],\n",
        "    'y_pred': best_model['y_pred'],\n",
        "    'itest': best_model['itest']\n",
        "})\n",
        "\n",
        "with pd.ExcelWriter(file_path, engine='openpyxl') as writer:\n",
        "    layers_df.to_excel(writer, sheet_name='Model Configuration', index=False)\n",
        "    metrics_df.to_excel(writer, sheet_name='Metrics', index=False)\n",
        "    roc_df.to_excel(writer, sheet_name='ROC Curve', index=False)\n",
        "    predictions_df.to_excel(writer, sheet_name='Predictions', index=False)"
      ]
    },
    {
      "cell_type": "code",
      "execution_count": 131,
      "metadata": {
        "id": "Bp72XxbD9mcu"
      },
      "outputs": [
        {
          "name": "stdout",
          "output_type": "stream",
          "text": [
            "Best Threshold=0.418573, G-Mean=0.890\n"
          ]
        },
        {
          "data": {
            "image/png": "[encoded data removed]",
            "text/plain": [
              "<Figure size 640x480 with 1 Axes>"
            ]
          },
          "metadata": {},
          "output_type": "display_data"
        },
        {
          "name": "stdout",
          "output_type": "stream",
          "text": [
            "Best Threshold=0.418573, F-Score=0.875\n"
          ]
        },
        {
          "data": {
            "image/png": "[encoded data removed]",
            "text/plain": [
              "<Figure size 640x480 with 1 Axes>"
            ]
          },
          "metadata": {},
          "output_type": "display_data"
        },
        {
          "name": "stdout",
          "output_type": "stream",
          "text": [
            "CM: [25 1 3 14]\n",
            "Accuracy: 0.907\n",
            "Sensitivity: 0.824\n",
            "Specificity: 0.962\n",
            "MCC: 0.805\n"
          ]
        }
      ],
      "source": [
        "# ROC and AUC\n",
        "y_true = best_model['y_true']\n",
        "y_pred = best_model['y_pred']\n",
        "\n",
        "fpr = best_model['fpr']\n",
        "tpr = best_model['tpr']\n",
        "thresholds = best_model['thresholds']\n",
        "\n",
        "# calculate roc curves\n",
        "area = auc(fpr, tpr)\n",
        "gmeans = np.sqrt(tpr * (1-fpr))\n",
        "# locate the index of the largest g-mean\n",
        "ix = np.argmax(gmeans)\n",
        "print('Best Threshold=%f, G-Mean=%.3f' % (thresholds[ix], gmeans[ix]))\n",
        "\n",
        "plt.figure()\n",
        "plt.plot([0, 1], [0, 1], 'k--')\n",
        "plt.plot(fpr, tpr, label='AUC = {:.3f}'.format(area))\n",
        "plt.xlabel('False positive rate')\n",
        "plt.ylabel('True positive rate')\n",
        "plt.title('ROC curve')\n",
        "plt.legend(loc='best')\n",
        "plt.show()\n",
        "\n",
        "# calculate roc curves\n",
        "precision, recall, thresholds = precision_recall_curve(y_true, y_pred)\n",
        "area = auc(recall, precision)\n",
        "# convert to f score\n",
        "fscore = (2 * precision * recall) / (precision + recall)\n",
        "# locate the index of the largest f score\n",
        "ix = np.argmax(fscore)\n",
        "print('Best Threshold=%f, F-Score=%.3f' % (thresholds[ix], fscore[ix]))\n",
        "\n",
        "# plot the roc curve for the model\n",
        "plt.figure()\n",
        "no_skill = len(y_true[y_true==1]) / len(y_true)\n",
        "plt.plot([0,1], [no_skill,no_skill], linestyle='--')\n",
        "plt.plot(recall, precision, marker='.', label='AUC = {:.3f}'.format(area))\n",
        "#plt.scatter(recall[ix], precision[ix], marker='o', color='black', label='Best')\n",
        "# axis labels\n",
        "plt.xlabel('Recall')\n",
        "plt.ylabel('Precision')\n",
        "plt.legend()\n",
        "# show the plot\n",
        "plt.show()\n",
        "\n",
        "# Making the Confusion Matrix [tn, fp, fn, tp]\n",
        "tn = best_model['tn']\n",
        "fp = best_model['fp']\n",
        "fn = best_model['fn']\n",
        "tp = best_model['tp']\n",
        "\n",
        "#tn, fp, fn, tp = confusion_matrix(y_true, (y_pred >= thresholds[ix])).ravel()\n",
        "N = tn+fp+fn+tp\n",
        "S = (tp+fn)/N\n",
        "P = (tp+fp)/N\n",
        "#MCC = ((tp/N)-S*P)/np.sqrt(P*S*(1.-S)*(1.-P))\n",
        "MCC = best_model['MCC']\n",
        "accuracy = best_model['accuracy']\n",
        "sensitivity = best_model['sensitivity']\n",
        "specificity = best_model['specificity']\n",
        "\n",
        "print(\"CM: [%d %d %d %d]\" %(tn, fp, fn, tp))\n",
        "print(\"Accuracy: %0.3f\" %(accuracy))\n",
        "print(\"Sensitivity: %0.3f\" %(sensitivity))\n",
        "print(\"Specificity: %0.3f\" %(specificity))\n",
        "print(\"MCC: %0.3f\" %(MCC))\n"
      ]
    },
    {
      "cell_type": "code",
      "execution_count": 132,
      "metadata": {
        "id": "1phOdJ0GVswI"
      },
      "outputs": [
        {
          "data": {
            "image/png": "[encoded data removed]",
            "text/plain": [
              "<Figure size 640x480 with 2 Axes>"
            ]
          },
          "metadata": {},
          "output_type": "display_data"
        }
      ],
      "source": [
        "from matplotlib import rcParams\n",
        "from sklearn.metrics import confusion_matrix, ConfusionMatrixDisplay\n",
        "#rcParams['font.sans-serif'] = ['calibri']  # You can change 'Arial' to any other desired font\n",
        "rcParams['font.size'] = 14\n",
        "# from sklearn.metrics import plot_confusion_matrix, confusion_matrix\n",
        "conf_matrix = np.array([[tn, fp],\n",
        "               [fn, tp]])\n",
        "#conf_matrix =confusion_matrix(y_true, (y_pred >= thresholds[ix]))\n",
        "# Plot the confusion matrix\n",
        "labels = ['Novice', 'Expert']\n",
        "# plot_confusion_matrix(conf_matrix, display_labels=labels, cmap=plt.cm.Blues, normalize=None)\n",
        "disp = ConfusionMatrixDisplay(confusion_matrix=conf_matrix,display_labels=labels)\n",
        "disp.plot()\n",
        "plt.show()"
      ]
    }
  ],
  "metadata": {
    "colab": {
      "provenance": []
    },
    "kernelspec": {
      "display_name": "Python 3",
      "name": "python3"
    },
    "language_info": {
      "codemirror_mode": {
        "name": "ipython",
        "version": 3
      },
      "file_extension": ".py",
      "mimetype": "text/x-python",
      "name": "python",
      "nbconvert_exporter": "python",
      "pygments_lexer": "ipython3",
      "version": "3.9.10"
    }
  },
  "nbformat": 4,
  "nbformat_minor": 0
}
